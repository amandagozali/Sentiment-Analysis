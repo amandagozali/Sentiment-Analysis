{
  "nbformat": 4,
  "nbformat_minor": 0,
  "metadata": {
    "colab": {
      "provenance": []
    },
    "kernelspec": {
      "name": "python3",
      "display_name": "Python 3"
    }
  },
  "cells": [
    {
      "cell_type": "markdown",
      "source": [
        "**Mini Project Week 10**\n",
        "### Amanda Gozali - 6162001169"
      ],
      "metadata": {
        "id": "MNtzHuYZo8sA"
      }
    },
    {
      "cell_type": "markdown",
      "metadata": {
        "id": "49a87REg5K7E"
      },
      "source": [
        "# Preparing Data"
      ]
    },
    {
      "cell_type": "code",
      "source": [
        "#Mengambil data\n",
        "import pandas as pd\n",
        "url = 'https://docs.google.com/spreadsheets/d/1lN3x5lmwCHPph0OatZqouRJVeyuRp16t1DqpqqkUcGs/gviz/tq?tqx=out:csv&sheet=Sheet1'\n",
        "df = pd.read_csv(url)"
      ],
      "metadata": {
        "id": "tKE4xx00Db8V"
      },
      "execution_count": 6,
      "outputs": []
    },
    {
      "cell_type": "code",
      "source": [
        "#Mengambil 5 data teratas\n",
        "df.head()"
      ],
      "metadata": {
        "colab": {
          "base_uri": "https://localhost:8080/",
          "height": 206
        },
        "id": "l657uLt7Pz6s",
        "outputId": "27e36b51-60b5-4252-e4b3-44d6e14137f9"
      },
      "execution_count": 7,
      "outputs": [
        {
          "output_type": "execute_result",
          "data": {
            "text/plain": [
              "   No               Brand  Rating  \\\n",
              "0   1  Pizza Hut Delivery       3   \n",
              "1   2          Mcdonald's       1   \n",
              "2   3                 KFC       5   \n",
              "3   4       Burger Bangor       3   \n",
              "4   5         Burger King       5   \n",
              "\n",
              "                                              Review  \\\n",
              "0  rose pizza, rotinya masih mentah yang bagian d...   \n",
              "1  Saya pesan setau saya gambarnya pake nasi. Kal...   \n",
              "2  Ini mah nggak usah diragukan, udah langganan j...   \n",
              "3     Ukuran kecil untuk harga segitu. Tapi rasa ok.   \n",
              "4  enak bumbu madura nya, ayamnya pun juicy ga ke...   \n",
              "\n",
              "                                              Source  \n",
              "0  https://gofood.co.id/en/bandung/restaurant/piz...  \n",
              "1  https://gofood.co.id/id/bandung/restaurant/mcd...  \n",
              "2  https://gofood.co.id/en/bandung/restaurant/kfc...  \n",
              "3  https://gofood.co.id/en/bandung/restaurant/bur...  \n",
              "4  https://gofood.co.id/id/bandung/restaurant/bur...  "
            ],
            "text/html": [
              "\n",
              "  <div id=\"df-f0dc047b-513e-435b-94d0-0cc2d70993e9\">\n",
              "    <div class=\"colab-df-container\">\n",
              "      <div>\n",
              "<style scoped>\n",
              "    .dataframe tbody tr th:only-of-type {\n",
              "        vertical-align: middle;\n",
              "    }\n",
              "\n",
              "    .dataframe tbody tr th {\n",
              "        vertical-align: top;\n",
              "    }\n",
              "\n",
              "    .dataframe thead th {\n",
              "        text-align: right;\n",
              "    }\n",
              "</style>\n",
              "<table border=\"1\" class=\"dataframe\">\n",
              "  <thead>\n",
              "    <tr style=\"text-align: right;\">\n",
              "      <th></th>\n",
              "      <th>No</th>\n",
              "      <th>Brand</th>\n",
              "      <th>Rating</th>\n",
              "      <th>Review</th>\n",
              "      <th>Source</th>\n",
              "    </tr>\n",
              "  </thead>\n",
              "  <tbody>\n",
              "    <tr>\n",
              "      <th>0</th>\n",
              "      <td>1</td>\n",
              "      <td>Pizza Hut Delivery</td>\n",
              "      <td>3</td>\n",
              "      <td>rose pizza, rotinya masih mentah yang bagian d...</td>\n",
              "      <td>https://gofood.co.id/en/bandung/restaurant/piz...</td>\n",
              "    </tr>\n",
              "    <tr>\n",
              "      <th>1</th>\n",
              "      <td>2</td>\n",
              "      <td>Mcdonald's</td>\n",
              "      <td>1</td>\n",
              "      <td>Saya pesan setau saya gambarnya pake nasi. Kal...</td>\n",
              "      <td>https://gofood.co.id/id/bandung/restaurant/mcd...</td>\n",
              "    </tr>\n",
              "    <tr>\n",
              "      <th>2</th>\n",
              "      <td>3</td>\n",
              "      <td>KFC</td>\n",
              "      <td>5</td>\n",
              "      <td>Ini mah nggak usah diragukan, udah langganan j...</td>\n",
              "      <td>https://gofood.co.id/en/bandung/restaurant/kfc...</td>\n",
              "    </tr>\n",
              "    <tr>\n",
              "      <th>3</th>\n",
              "      <td>4</td>\n",
              "      <td>Burger Bangor</td>\n",
              "      <td>3</td>\n",
              "      <td>Ukuran kecil untuk harga segitu. Tapi rasa ok.</td>\n",
              "      <td>https://gofood.co.id/en/bandung/restaurant/bur...</td>\n",
              "    </tr>\n",
              "    <tr>\n",
              "      <th>4</th>\n",
              "      <td>5</td>\n",
              "      <td>Burger King</td>\n",
              "      <td>5</td>\n",
              "      <td>enak bumbu madura nya, ayamnya pun juicy ga ke...</td>\n",
              "      <td>https://gofood.co.id/id/bandung/restaurant/bur...</td>\n",
              "    </tr>\n",
              "  </tbody>\n",
              "</table>\n",
              "</div>\n",
              "      <button class=\"colab-df-convert\" onclick=\"convertToInteractive('df-f0dc047b-513e-435b-94d0-0cc2d70993e9')\"\n",
              "              title=\"Convert this dataframe to an interactive table.\"\n",
              "              style=\"display:none;\">\n",
              "        \n",
              "  <svg xmlns=\"http://www.w3.org/2000/svg\" height=\"24px\"viewBox=\"0 0 24 24\"\n",
              "       width=\"24px\">\n",
              "    <path d=\"M0 0h24v24H0V0z\" fill=\"none\"/>\n",
              "    <path d=\"M18.56 5.44l.94 2.06.94-2.06 2.06-.94-2.06-.94-.94-2.06-.94 2.06-2.06.94zm-11 1L8.5 8.5l.94-2.06 2.06-.94-2.06-.94L8.5 2.5l-.94 2.06-2.06.94zm10 10l.94 2.06.94-2.06 2.06-.94-2.06-.94-.94-2.06-.94 2.06-2.06.94z\"/><path d=\"M17.41 7.96l-1.37-1.37c-.4-.4-.92-.59-1.43-.59-.52 0-1.04.2-1.43.59L10.3 9.45l-7.72 7.72c-.78.78-.78 2.05 0 2.83L4 21.41c.39.39.9.59 1.41.59.51 0 1.02-.2 1.41-.59l7.78-7.78 2.81-2.81c.8-.78.8-2.07 0-2.86zM5.41 20L4 18.59l7.72-7.72 1.47 1.35L5.41 20z\"/>\n",
              "  </svg>\n",
              "      </button>\n",
              "      \n",
              "  <style>\n",
              "    .colab-df-container {\n",
              "      display:flex;\n",
              "      flex-wrap:wrap;\n",
              "      gap: 12px;\n",
              "    }\n",
              "\n",
              "    .colab-df-convert {\n",
              "      background-color: #E8F0FE;\n",
              "      border: none;\n",
              "      border-radius: 50%;\n",
              "      cursor: pointer;\n",
              "      display: none;\n",
              "      fill: #1967D2;\n",
              "      height: 32px;\n",
              "      padding: 0 0 0 0;\n",
              "      width: 32px;\n",
              "    }\n",
              "\n",
              "    .colab-df-convert:hover {\n",
              "      background-color: #E2EBFA;\n",
              "      box-shadow: 0px 1px 2px rgba(60, 64, 67, 0.3), 0px 1px 3px 1px rgba(60, 64, 67, 0.15);\n",
              "      fill: #174EA6;\n",
              "    }\n",
              "\n",
              "    [theme=dark] .colab-df-convert {\n",
              "      background-color: #3B4455;\n",
              "      fill: #D2E3FC;\n",
              "    }\n",
              "\n",
              "    [theme=dark] .colab-df-convert:hover {\n",
              "      background-color: #434B5C;\n",
              "      box-shadow: 0px 1px 3px 1px rgba(0, 0, 0, 0.15);\n",
              "      filter: drop-shadow(0px 1px 2px rgba(0, 0, 0, 0.3));\n",
              "      fill: #FFFFFF;\n",
              "    }\n",
              "  </style>\n",
              "\n",
              "      <script>\n",
              "        const buttonEl =\n",
              "          document.querySelector('#df-f0dc047b-513e-435b-94d0-0cc2d70993e9 button.colab-df-convert');\n",
              "        buttonEl.style.display =\n",
              "          google.colab.kernel.accessAllowed ? 'block' : 'none';\n",
              "\n",
              "        async function convertToInteractive(key) {\n",
              "          const element = document.querySelector('#df-f0dc047b-513e-435b-94d0-0cc2d70993e9');\n",
              "          const dataTable =\n",
              "            await google.colab.kernel.invokeFunction('convertToInteractive',\n",
              "                                                     [key], {});\n",
              "          if (!dataTable) return;\n",
              "\n",
              "          const docLinkHtml = 'Like what you see? Visit the ' +\n",
              "            '<a target=\"_blank\" href=https://colab.research.google.com/notebooks/data_table.ipynb>data table notebook</a>'\n",
              "            + ' to learn more about interactive tables.';\n",
              "          element.innerHTML = '';\n",
              "          dataTable['output_type'] = 'display_data';\n",
              "          await google.colab.output.renderOutput(dataTable, element);\n",
              "          const docLink = document.createElement('div');\n",
              "          docLink.innerHTML = docLinkHtml;\n",
              "          element.appendChild(docLink);\n",
              "        }\n",
              "      </script>\n",
              "    </div>\n",
              "  </div>\n",
              "  "
            ]
          },
          "metadata": {},
          "execution_count": 7
        }
      ]
    },
    {
      "cell_type": "code",
      "source": [
        "#Menghapus data yang kosong\n",
        "df = df.dropna()\n",
        "#Mengambil 5 data terakhir\n",
        "df.tail()"
      ],
      "metadata": {
        "id": "zmLyIbfQJlIt",
        "colab": {
          "base_uri": "https://localhost:8080/",
          "height": 206
        },
        "outputId": "92ac7bae-1170-40e3-e3ef-337944776045"
      },
      "execution_count": 8,
      "outputs": [
        {
          "output_type": "execute_result",
          "data": {
            "text/plain": [
              "      No           Brand  Rating  \\\n",
              "245  246  Sagala Kitchen       4   \n",
              "246  247  Bebeke Om Aris       4   \n",
              "247  248     Boom Burger       2   \n",
              "248  249        Lu'Miere       5   \n",
              "249  250          Subway       4   \n",
              "\n",
              "                                                Review  \\\n",
              "245         nasi gorengnya porsi nya mini banget. hehe   \n",
              "246  sambel dan lalapannya, jadi hilang atau keting...   \n",
              "247                              Masakan nya dingin,,😰   \n",
              "248  Akhirnya bisa ngerasai Lu’miere di Bandung!! K...   \n",
              "249  adi kemarin siang aku lagi jalan2 ke paskal da...   \n",
              "\n",
              "                                                Source  \n",
              "245  https://gofood.co.id/id/bandung/restaurant/sag...  \n",
              "246  https://gofood.co.id/id/bandung/restaurant/beb...  \n",
              "247  https://gofood.co.id/id/bandung/restaurant/boo...  \n",
              "248  https://pergikuliner.com/restaurants/bandung/l...  \n",
              "249  https://pergikuliner.com/restaurants/bandung/s...  "
            ],
            "text/html": [
              "\n",
              "  <div id=\"df-832568f4-3a66-4a59-b51b-7f760fb01ceb\">\n",
              "    <div class=\"colab-df-container\">\n",
              "      <div>\n",
              "<style scoped>\n",
              "    .dataframe tbody tr th:only-of-type {\n",
              "        vertical-align: middle;\n",
              "    }\n",
              "\n",
              "    .dataframe tbody tr th {\n",
              "        vertical-align: top;\n",
              "    }\n",
              "\n",
              "    .dataframe thead th {\n",
              "        text-align: right;\n",
              "    }\n",
              "</style>\n",
              "<table border=\"1\" class=\"dataframe\">\n",
              "  <thead>\n",
              "    <tr style=\"text-align: right;\">\n",
              "      <th></th>\n",
              "      <th>No</th>\n",
              "      <th>Brand</th>\n",
              "      <th>Rating</th>\n",
              "      <th>Review</th>\n",
              "      <th>Source</th>\n",
              "    </tr>\n",
              "  </thead>\n",
              "  <tbody>\n",
              "    <tr>\n",
              "      <th>245</th>\n",
              "      <td>246</td>\n",
              "      <td>Sagala Kitchen</td>\n",
              "      <td>4</td>\n",
              "      <td>nasi gorengnya porsi nya mini banget. hehe</td>\n",
              "      <td>https://gofood.co.id/id/bandung/restaurant/sag...</td>\n",
              "    </tr>\n",
              "    <tr>\n",
              "      <th>246</th>\n",
              "      <td>247</td>\n",
              "      <td>Bebeke Om Aris</td>\n",
              "      <td>4</td>\n",
              "      <td>sambel dan lalapannya, jadi hilang atau keting...</td>\n",
              "      <td>https://gofood.co.id/id/bandung/restaurant/beb...</td>\n",
              "    </tr>\n",
              "    <tr>\n",
              "      <th>247</th>\n",
              "      <td>248</td>\n",
              "      <td>Boom Burger</td>\n",
              "      <td>2</td>\n",
              "      <td>Masakan nya dingin,,😰</td>\n",
              "      <td>https://gofood.co.id/id/bandung/restaurant/boo...</td>\n",
              "    </tr>\n",
              "    <tr>\n",
              "      <th>248</th>\n",
              "      <td>249</td>\n",
              "      <td>Lu'Miere</td>\n",
              "      <td>5</td>\n",
              "      <td>Akhirnya bisa ngerasai Lu’miere di Bandung!! K...</td>\n",
              "      <td>https://pergikuliner.com/restaurants/bandung/l...</td>\n",
              "    </tr>\n",
              "    <tr>\n",
              "      <th>249</th>\n",
              "      <td>250</td>\n",
              "      <td>Subway</td>\n",
              "      <td>4</td>\n",
              "      <td>adi kemarin siang aku lagi jalan2 ke paskal da...</td>\n",
              "      <td>https://pergikuliner.com/restaurants/bandung/s...</td>\n",
              "    </tr>\n",
              "  </tbody>\n",
              "</table>\n",
              "</div>\n",
              "      <button class=\"colab-df-convert\" onclick=\"convertToInteractive('df-832568f4-3a66-4a59-b51b-7f760fb01ceb')\"\n",
              "              title=\"Convert this dataframe to an interactive table.\"\n",
              "              style=\"display:none;\">\n",
              "        \n",
              "  <svg xmlns=\"http://www.w3.org/2000/svg\" height=\"24px\"viewBox=\"0 0 24 24\"\n",
              "       width=\"24px\">\n",
              "    <path d=\"M0 0h24v24H0V0z\" fill=\"none\"/>\n",
              "    <path d=\"M18.56 5.44l.94 2.06.94-2.06 2.06-.94-2.06-.94-.94-2.06-.94 2.06-2.06.94zm-11 1L8.5 8.5l.94-2.06 2.06-.94-2.06-.94L8.5 2.5l-.94 2.06-2.06.94zm10 10l.94 2.06.94-2.06 2.06-.94-2.06-.94-.94-2.06-.94 2.06-2.06.94z\"/><path d=\"M17.41 7.96l-1.37-1.37c-.4-.4-.92-.59-1.43-.59-.52 0-1.04.2-1.43.59L10.3 9.45l-7.72 7.72c-.78.78-.78 2.05 0 2.83L4 21.41c.39.39.9.59 1.41.59.51 0 1.02-.2 1.41-.59l7.78-7.78 2.81-2.81c.8-.78.8-2.07 0-2.86zM5.41 20L4 18.59l7.72-7.72 1.47 1.35L5.41 20z\"/>\n",
              "  </svg>\n",
              "      </button>\n",
              "      \n",
              "  <style>\n",
              "    .colab-df-container {\n",
              "      display:flex;\n",
              "      flex-wrap:wrap;\n",
              "      gap: 12px;\n",
              "    }\n",
              "\n",
              "    .colab-df-convert {\n",
              "      background-color: #E8F0FE;\n",
              "      border: none;\n",
              "      border-radius: 50%;\n",
              "      cursor: pointer;\n",
              "      display: none;\n",
              "      fill: #1967D2;\n",
              "      height: 32px;\n",
              "      padding: 0 0 0 0;\n",
              "      width: 32px;\n",
              "    }\n",
              "\n",
              "    .colab-df-convert:hover {\n",
              "      background-color: #E2EBFA;\n",
              "      box-shadow: 0px 1px 2px rgba(60, 64, 67, 0.3), 0px 1px 3px 1px rgba(60, 64, 67, 0.15);\n",
              "      fill: #174EA6;\n",
              "    }\n",
              "\n",
              "    [theme=dark] .colab-df-convert {\n",
              "      background-color: #3B4455;\n",
              "      fill: #D2E3FC;\n",
              "    }\n",
              "\n",
              "    [theme=dark] .colab-df-convert:hover {\n",
              "      background-color: #434B5C;\n",
              "      box-shadow: 0px 1px 3px 1px rgba(0, 0, 0, 0.15);\n",
              "      filter: drop-shadow(0px 1px 2px rgba(0, 0, 0, 0.3));\n",
              "      fill: #FFFFFF;\n",
              "    }\n",
              "  </style>\n",
              "\n",
              "      <script>\n",
              "        const buttonEl =\n",
              "          document.querySelector('#df-832568f4-3a66-4a59-b51b-7f760fb01ceb button.colab-df-convert');\n",
              "        buttonEl.style.display =\n",
              "          google.colab.kernel.accessAllowed ? 'block' : 'none';\n",
              "\n",
              "        async function convertToInteractive(key) {\n",
              "          const element = document.querySelector('#df-832568f4-3a66-4a59-b51b-7f760fb01ceb');\n",
              "          const dataTable =\n",
              "            await google.colab.kernel.invokeFunction('convertToInteractive',\n",
              "                                                     [key], {});\n",
              "          if (!dataTable) return;\n",
              "\n",
              "          const docLinkHtml = 'Like what you see? Visit the ' +\n",
              "            '<a target=\"_blank\" href=https://colab.research.google.com/notebooks/data_table.ipynb>data table notebook</a>'\n",
              "            + ' to learn more about interactive tables.';\n",
              "          element.innerHTML = '';\n",
              "          dataTable['output_type'] = 'display_data';\n",
              "          await google.colab.output.renderOutput(dataTable, element);\n",
              "          const docLink = document.createElement('div');\n",
              "          docLink.innerHTML = docLinkHtml;\n",
              "          element.appendChild(docLink);\n",
              "        }\n",
              "      </script>\n",
              "    </div>\n",
              "  </div>\n",
              "  "
            ]
          },
          "metadata": {},
          "execution_count": 8
        }
      ]
    },
    {
      "cell_type": "code",
      "source": [
        "df.shape #Melihat ukuran data (250 baris, 5 kolom)"
      ],
      "metadata": {
        "colab": {
          "base_uri": "https://localhost:8080/"
        },
        "id": "xAQknJihRPJq",
        "outputId": "102af3f0-2ad7-4c12-cda3-bcaaf3afe16d"
      },
      "execution_count": 9,
      "outputs": [
        {
          "output_type": "execute_result",
          "data": {
            "text/plain": [
              "(250, 5)"
            ]
          },
          "metadata": {},
          "execution_count": 9
        }
      ]
    },
    {
      "cell_type": "code",
      "source": [
        "df.describe() #Deskripsi data"
      ],
      "metadata": {
        "colab": {
          "base_uri": "https://localhost:8080/",
          "height": 300
        },
        "id": "3Gq1t4_BRUDE",
        "outputId": "ced95307-df64-4574-9a50-5726952ead96"
      },
      "execution_count": 10,
      "outputs": [
        {
          "output_type": "execute_result",
          "data": {
            "text/plain": [
              "               No      Rating\n",
              "count  250.000000  250.000000\n",
              "mean   125.500000    3.000000\n",
              "std     72.312977    1.359187\n",
              "min      1.000000    1.000000\n",
              "25%     63.250000    2.000000\n",
              "50%    125.500000    3.000000\n",
              "75%    187.750000    4.000000\n",
              "max    250.000000    5.000000"
            ],
            "text/html": [
              "\n",
              "  <div id=\"df-8ef045e7-4f13-418e-adf5-058e7a4df581\">\n",
              "    <div class=\"colab-df-container\">\n",
              "      <div>\n",
              "<style scoped>\n",
              "    .dataframe tbody tr th:only-of-type {\n",
              "        vertical-align: middle;\n",
              "    }\n",
              "\n",
              "    .dataframe tbody tr th {\n",
              "        vertical-align: top;\n",
              "    }\n",
              "\n",
              "    .dataframe thead th {\n",
              "        text-align: right;\n",
              "    }\n",
              "</style>\n",
              "<table border=\"1\" class=\"dataframe\">\n",
              "  <thead>\n",
              "    <tr style=\"text-align: right;\">\n",
              "      <th></th>\n",
              "      <th>No</th>\n",
              "      <th>Rating</th>\n",
              "    </tr>\n",
              "  </thead>\n",
              "  <tbody>\n",
              "    <tr>\n",
              "      <th>count</th>\n",
              "      <td>250.000000</td>\n",
              "      <td>250.000000</td>\n",
              "    </tr>\n",
              "    <tr>\n",
              "      <th>mean</th>\n",
              "      <td>125.500000</td>\n",
              "      <td>3.000000</td>\n",
              "    </tr>\n",
              "    <tr>\n",
              "      <th>std</th>\n",
              "      <td>72.312977</td>\n",
              "      <td>1.359187</td>\n",
              "    </tr>\n",
              "    <tr>\n",
              "      <th>min</th>\n",
              "      <td>1.000000</td>\n",
              "      <td>1.000000</td>\n",
              "    </tr>\n",
              "    <tr>\n",
              "      <th>25%</th>\n",
              "      <td>63.250000</td>\n",
              "      <td>2.000000</td>\n",
              "    </tr>\n",
              "    <tr>\n",
              "      <th>50%</th>\n",
              "      <td>125.500000</td>\n",
              "      <td>3.000000</td>\n",
              "    </tr>\n",
              "    <tr>\n",
              "      <th>75%</th>\n",
              "      <td>187.750000</td>\n",
              "      <td>4.000000</td>\n",
              "    </tr>\n",
              "    <tr>\n",
              "      <th>max</th>\n",
              "      <td>250.000000</td>\n",
              "      <td>5.000000</td>\n",
              "    </tr>\n",
              "  </tbody>\n",
              "</table>\n",
              "</div>\n",
              "      <button class=\"colab-df-convert\" onclick=\"convertToInteractive('df-8ef045e7-4f13-418e-adf5-058e7a4df581')\"\n",
              "              title=\"Convert this dataframe to an interactive table.\"\n",
              "              style=\"display:none;\">\n",
              "        \n",
              "  <svg xmlns=\"http://www.w3.org/2000/svg\" height=\"24px\"viewBox=\"0 0 24 24\"\n",
              "       width=\"24px\">\n",
              "    <path d=\"M0 0h24v24H0V0z\" fill=\"none\"/>\n",
              "    <path d=\"M18.56 5.44l.94 2.06.94-2.06 2.06-.94-2.06-.94-.94-2.06-.94 2.06-2.06.94zm-11 1L8.5 8.5l.94-2.06 2.06-.94-2.06-.94L8.5 2.5l-.94 2.06-2.06.94zm10 10l.94 2.06.94-2.06 2.06-.94-2.06-.94-.94-2.06-.94 2.06-2.06.94z\"/><path d=\"M17.41 7.96l-1.37-1.37c-.4-.4-.92-.59-1.43-.59-.52 0-1.04.2-1.43.59L10.3 9.45l-7.72 7.72c-.78.78-.78 2.05 0 2.83L4 21.41c.39.39.9.59 1.41.59.51 0 1.02-.2 1.41-.59l7.78-7.78 2.81-2.81c.8-.78.8-2.07 0-2.86zM5.41 20L4 18.59l7.72-7.72 1.47 1.35L5.41 20z\"/>\n",
              "  </svg>\n",
              "      </button>\n",
              "      \n",
              "  <style>\n",
              "    .colab-df-container {\n",
              "      display:flex;\n",
              "      flex-wrap:wrap;\n",
              "      gap: 12px;\n",
              "    }\n",
              "\n",
              "    .colab-df-convert {\n",
              "      background-color: #E8F0FE;\n",
              "      border: none;\n",
              "      border-radius: 50%;\n",
              "      cursor: pointer;\n",
              "      display: none;\n",
              "      fill: #1967D2;\n",
              "      height: 32px;\n",
              "      padding: 0 0 0 0;\n",
              "      width: 32px;\n",
              "    }\n",
              "\n",
              "    .colab-df-convert:hover {\n",
              "      background-color: #E2EBFA;\n",
              "      box-shadow: 0px 1px 2px rgba(60, 64, 67, 0.3), 0px 1px 3px 1px rgba(60, 64, 67, 0.15);\n",
              "      fill: #174EA6;\n",
              "    }\n",
              "\n",
              "    [theme=dark] .colab-df-convert {\n",
              "      background-color: #3B4455;\n",
              "      fill: #D2E3FC;\n",
              "    }\n",
              "\n",
              "    [theme=dark] .colab-df-convert:hover {\n",
              "      background-color: #434B5C;\n",
              "      box-shadow: 0px 1px 3px 1px rgba(0, 0, 0, 0.15);\n",
              "      filter: drop-shadow(0px 1px 2px rgba(0, 0, 0, 0.3));\n",
              "      fill: #FFFFFF;\n",
              "    }\n",
              "  </style>\n",
              "\n",
              "      <script>\n",
              "        const buttonEl =\n",
              "          document.querySelector('#df-8ef045e7-4f13-418e-adf5-058e7a4df581 button.colab-df-convert');\n",
              "        buttonEl.style.display =\n",
              "          google.colab.kernel.accessAllowed ? 'block' : 'none';\n",
              "\n",
              "        async function convertToInteractive(key) {\n",
              "          const element = document.querySelector('#df-8ef045e7-4f13-418e-adf5-058e7a4df581');\n",
              "          const dataTable =\n",
              "            await google.colab.kernel.invokeFunction('convertToInteractive',\n",
              "                                                     [key], {});\n",
              "          if (!dataTable) return;\n",
              "\n",
              "          const docLinkHtml = 'Like what you see? Visit the ' +\n",
              "            '<a target=\"_blank\" href=https://colab.research.google.com/notebooks/data_table.ipynb>data table notebook</a>'\n",
              "            + ' to learn more about interactive tables.';\n",
              "          element.innerHTML = '';\n",
              "          dataTable['output_type'] = 'display_data';\n",
              "          await google.colab.output.renderOutput(dataTable, element);\n",
              "          const docLink = document.createElement('div');\n",
              "          docLink.innerHTML = docLinkHtml;\n",
              "          element.appendChild(docLink);\n",
              "        }\n",
              "      </script>\n",
              "    </div>\n",
              "  </div>\n",
              "  "
            ]
          },
          "metadata": {},
          "execution_count": 10
        }
      ]
    },
    {
      "cell_type": "code",
      "source": [
        "df.columns"
      ],
      "metadata": {
        "colab": {
          "base_uri": "https://localhost:8080/"
        },
        "id": "PGgM6FhSRXS2",
        "outputId": "d3bf9a2f-6aa9-4164-af5e-d7ecf19fd28e"
      },
      "execution_count": 11,
      "outputs": [
        {
          "output_type": "execute_result",
          "data": {
            "text/plain": [
              "Index(['No', 'Brand', 'Rating', 'Review', 'Source'], dtype='object')"
            ]
          },
          "metadata": {},
          "execution_count": 11
        }
      ]
    },
    {
      "cell_type": "code",
      "source": [
        "df['Rating'].value_counts()"
      ],
      "metadata": {
        "colab": {
          "base_uri": "https://localhost:8080/"
        },
        "id": "0mrlE6uIRZgv",
        "outputId": "7c95a294-ef0e-4ec4-ccde-5bc5c429cb04"
      },
      "execution_count": 12,
      "outputs": [
        {
          "output_type": "execute_result",
          "data": {
            "text/plain": [
              "3    60\n",
              "4    50\n",
              "2    50\n",
              "1    45\n",
              "5    45\n",
              "Name: Rating, dtype: int64"
            ]
          },
          "metadata": {},
          "execution_count": 12
        }
      ]
    },
    {
      "cell_type": "markdown",
      "source": [
        "Digunakan rating untuk menentukan apakah pelanggan senang atau tidak senang, di mana jika rating antara 1-3 maka dianggap pelanggan\n",
        "tidak senang sehingga akan diubah menjadi negatif dan jika rating 4-5 maka dianggap pelanggan senang dan diubah menjadi positif"
      ],
      "metadata": {
        "id": "pJYeKXjTRgtE"
      }
    },
    {
      "cell_type": "code",
      "source": [
        "df['Rating']= df['Rating'].map({4:'positif',5:'positif', 1:'negatif',2:'negatif',3:'negatif'})"
      ],
      "metadata": {
        "id": "9tZIjzMmRkNJ"
      },
      "execution_count": 13,
      "outputs": []
    },
    {
      "cell_type": "code",
      "source": [
        "df.head()"
      ],
      "metadata": {
        "colab": {
          "base_uri": "https://localhost:8080/",
          "height": 206
        },
        "id": "PhlTJqSOW3xx",
        "outputId": "4d3a7772-5b04-4ea2-c780-a9c0211971f7"
      },
      "execution_count": 14,
      "outputs": [
        {
          "output_type": "execute_result",
          "data": {
            "text/plain": [
              "   No               Brand   Rating  \\\n",
              "0   1  Pizza Hut Delivery  negatif   \n",
              "1   2          Mcdonald's  negatif   \n",
              "2   3                 KFC  positif   \n",
              "3   4       Burger Bangor  negatif   \n",
              "4   5         Burger King  positif   \n",
              "\n",
              "                                              Review  \\\n",
              "0  rose pizza, rotinya masih mentah yang bagian d...   \n",
              "1  Saya pesan setau saya gambarnya pake nasi. Kal...   \n",
              "2  Ini mah nggak usah diragukan, udah langganan j...   \n",
              "3     Ukuran kecil untuk harga segitu. Tapi rasa ok.   \n",
              "4  enak bumbu madura nya, ayamnya pun juicy ga ke...   \n",
              "\n",
              "                                              Source  \n",
              "0  https://gofood.co.id/en/bandung/restaurant/piz...  \n",
              "1  https://gofood.co.id/id/bandung/restaurant/mcd...  \n",
              "2  https://gofood.co.id/en/bandung/restaurant/kfc...  \n",
              "3  https://gofood.co.id/en/bandung/restaurant/bur...  \n",
              "4  https://gofood.co.id/id/bandung/restaurant/bur...  "
            ],
            "text/html": [
              "\n",
              "  <div id=\"df-ad5457d1-673b-4f75-a8cd-e39305f28b1f\">\n",
              "    <div class=\"colab-df-container\">\n",
              "      <div>\n",
              "<style scoped>\n",
              "    .dataframe tbody tr th:only-of-type {\n",
              "        vertical-align: middle;\n",
              "    }\n",
              "\n",
              "    .dataframe tbody tr th {\n",
              "        vertical-align: top;\n",
              "    }\n",
              "\n",
              "    .dataframe thead th {\n",
              "        text-align: right;\n",
              "    }\n",
              "</style>\n",
              "<table border=\"1\" class=\"dataframe\">\n",
              "  <thead>\n",
              "    <tr style=\"text-align: right;\">\n",
              "      <th></th>\n",
              "      <th>No</th>\n",
              "      <th>Brand</th>\n",
              "      <th>Rating</th>\n",
              "      <th>Review</th>\n",
              "      <th>Source</th>\n",
              "    </tr>\n",
              "  </thead>\n",
              "  <tbody>\n",
              "    <tr>\n",
              "      <th>0</th>\n",
              "      <td>1</td>\n",
              "      <td>Pizza Hut Delivery</td>\n",
              "      <td>negatif</td>\n",
              "      <td>rose pizza, rotinya masih mentah yang bagian d...</td>\n",
              "      <td>https://gofood.co.id/en/bandung/restaurant/piz...</td>\n",
              "    </tr>\n",
              "    <tr>\n",
              "      <th>1</th>\n",
              "      <td>2</td>\n",
              "      <td>Mcdonald's</td>\n",
              "      <td>negatif</td>\n",
              "      <td>Saya pesan setau saya gambarnya pake nasi. Kal...</td>\n",
              "      <td>https://gofood.co.id/id/bandung/restaurant/mcd...</td>\n",
              "    </tr>\n",
              "    <tr>\n",
              "      <th>2</th>\n",
              "      <td>3</td>\n",
              "      <td>KFC</td>\n",
              "      <td>positif</td>\n",
              "      <td>Ini mah nggak usah diragukan, udah langganan j...</td>\n",
              "      <td>https://gofood.co.id/en/bandung/restaurant/kfc...</td>\n",
              "    </tr>\n",
              "    <tr>\n",
              "      <th>3</th>\n",
              "      <td>4</td>\n",
              "      <td>Burger Bangor</td>\n",
              "      <td>negatif</td>\n",
              "      <td>Ukuran kecil untuk harga segitu. Tapi rasa ok.</td>\n",
              "      <td>https://gofood.co.id/en/bandung/restaurant/bur...</td>\n",
              "    </tr>\n",
              "    <tr>\n",
              "      <th>4</th>\n",
              "      <td>5</td>\n",
              "      <td>Burger King</td>\n",
              "      <td>positif</td>\n",
              "      <td>enak bumbu madura nya, ayamnya pun juicy ga ke...</td>\n",
              "      <td>https://gofood.co.id/id/bandung/restaurant/bur...</td>\n",
              "    </tr>\n",
              "  </tbody>\n",
              "</table>\n",
              "</div>\n",
              "      <button class=\"colab-df-convert\" onclick=\"convertToInteractive('df-ad5457d1-673b-4f75-a8cd-e39305f28b1f')\"\n",
              "              title=\"Convert this dataframe to an interactive table.\"\n",
              "              style=\"display:none;\">\n",
              "        \n",
              "  <svg xmlns=\"http://www.w3.org/2000/svg\" height=\"24px\"viewBox=\"0 0 24 24\"\n",
              "       width=\"24px\">\n",
              "    <path d=\"M0 0h24v24H0V0z\" fill=\"none\"/>\n",
              "    <path d=\"M18.56 5.44l.94 2.06.94-2.06 2.06-.94-2.06-.94-.94-2.06-.94 2.06-2.06.94zm-11 1L8.5 8.5l.94-2.06 2.06-.94-2.06-.94L8.5 2.5l-.94 2.06-2.06.94zm10 10l.94 2.06.94-2.06 2.06-.94-2.06-.94-.94-2.06-.94 2.06-2.06.94z\"/><path d=\"M17.41 7.96l-1.37-1.37c-.4-.4-.92-.59-1.43-.59-.52 0-1.04.2-1.43.59L10.3 9.45l-7.72 7.72c-.78.78-.78 2.05 0 2.83L4 21.41c.39.39.9.59 1.41.59.51 0 1.02-.2 1.41-.59l7.78-7.78 2.81-2.81c.8-.78.8-2.07 0-2.86zM5.41 20L4 18.59l7.72-7.72 1.47 1.35L5.41 20z\"/>\n",
              "  </svg>\n",
              "      </button>\n",
              "      \n",
              "  <style>\n",
              "    .colab-df-container {\n",
              "      display:flex;\n",
              "      flex-wrap:wrap;\n",
              "      gap: 12px;\n",
              "    }\n",
              "\n",
              "    .colab-df-convert {\n",
              "      background-color: #E8F0FE;\n",
              "      border: none;\n",
              "      border-radius: 50%;\n",
              "      cursor: pointer;\n",
              "      display: none;\n",
              "      fill: #1967D2;\n",
              "      height: 32px;\n",
              "      padding: 0 0 0 0;\n",
              "      width: 32px;\n",
              "    }\n",
              "\n",
              "    .colab-df-convert:hover {\n",
              "      background-color: #E2EBFA;\n",
              "      box-shadow: 0px 1px 2px rgba(60, 64, 67, 0.3), 0px 1px 3px 1px rgba(60, 64, 67, 0.15);\n",
              "      fill: #174EA6;\n",
              "    }\n",
              "\n",
              "    [theme=dark] .colab-df-convert {\n",
              "      background-color: #3B4455;\n",
              "      fill: #D2E3FC;\n",
              "    }\n",
              "\n",
              "    [theme=dark] .colab-df-convert:hover {\n",
              "      background-color: #434B5C;\n",
              "      box-shadow: 0px 1px 3px 1px rgba(0, 0, 0, 0.15);\n",
              "      filter: drop-shadow(0px 1px 2px rgba(0, 0, 0, 0.3));\n",
              "      fill: #FFFFFF;\n",
              "    }\n",
              "  </style>\n",
              "\n",
              "      <script>\n",
              "        const buttonEl =\n",
              "          document.querySelector('#df-ad5457d1-673b-4f75-a8cd-e39305f28b1f button.colab-df-convert');\n",
              "        buttonEl.style.display =\n",
              "          google.colab.kernel.accessAllowed ? 'block' : 'none';\n",
              "\n",
              "        async function convertToInteractive(key) {\n",
              "          const element = document.querySelector('#df-ad5457d1-673b-4f75-a8cd-e39305f28b1f');\n",
              "          const dataTable =\n",
              "            await google.colab.kernel.invokeFunction('convertToInteractive',\n",
              "                                                     [key], {});\n",
              "          if (!dataTable) return;\n",
              "\n",
              "          const docLinkHtml = 'Like what you see? Visit the ' +\n",
              "            '<a target=\"_blank\" href=https://colab.research.google.com/notebooks/data_table.ipynb>data table notebook</a>'\n",
              "            + ' to learn more about interactive tables.';\n",
              "          element.innerHTML = '';\n",
              "          dataTable['output_type'] = 'display_data';\n",
              "          await google.colab.output.renderOutput(dataTable, element);\n",
              "          const docLink = document.createElement('div');\n",
              "          docLink.innerHTML = docLinkHtml;\n",
              "          element.appendChild(docLink);\n",
              "        }\n",
              "      </script>\n",
              "    </div>\n",
              "  </div>\n",
              "  "
            ]
          },
          "metadata": {},
          "execution_count": 14
        }
      ]
    },
    {
      "cell_type": "markdown",
      "source": [
        "# Text Preprocessing\n",
        "\n",
        "preprosesing disini adalah melakukan, cleaning data teks dengan menghapus kata kata yang tidak penting yang tidak termsuk dalam konteks, contohnya adalah seperti berikut."
      ],
      "metadata": {
        "id": "bLg6gC-AMbTC"
      }
    },
    {
      "cell_type": "code",
      "source": [
        "import re\n",
        "\n",
        "from bs4 import BeautifulSoup\n",
        "from nltk.tokenize import WordPunctTokenizer\n",
        "import nltk\n",
        "from nltk.corpus import stopwords\n",
        "\n",
        "\n",
        "tok = WordPunctTokenizer()\n",
        "pat1 = r'@[A-Za-z0-9_]+' #menghilangkat username jika twitter\n",
        "pat2 = r'https?://[^ ]+' #menghilangkan situs website\n",
        "combined_pat = r'|'.join((pat1, pat2)) #join pat1 dan pat 2\n",
        "www_pat = r'www.[^ ]+' #menhilangkan situs website\n",
        "\n",
        "#set_stopword yang di deskripsikan sendiri\n",
        "stp =  pd.read_csv('stopwords_id.txt')['STOPWORDS'].tolist() #['STOPWORDS'] berupa header\n",
        "print(stp)\n",
        "stopword_user = set(stp)\n",
        "print(stopword_user)"
      ],
      "metadata": {
        "id": "Jg-MJ2ueMfk-",
        "colab": {
          "base_uri": "https://localhost:8080/"
        },
        "outputId": "bc0ef4ba-96b5-47aa-fe88-906c2ce47a3a"
      },
      "execution_count": 17,
      "outputs": [
        {
          "output_type": "stream",
          "name": "stdout",
          "text": [
            "['ada', 'adanya', 'adalah', 'adapun', 'agak', 'agaknya', 'agar', 'akan', 'akankah', 'akhirnya', 'aku', 'akulah', 'amat', 'amatlah', 'anda', 'andalah', 'antar', 'diantaranya', 'antara', 'antaranya', 'diantara', 'apa', 'apaan', 'mengapa', 'apabila', 'apakah', 'apalagi', 'apatah', 'atau', 'ataukah', 'ataupun', 'bagai', 'bagaikan', 'sebagai', 'sebagainya', 'bagaimana', 'bagaimanapun', 'sebagaimana', 'bagaimanakah', 'bagi', 'bahkan', 'bahwa', 'bahwasanya', 'sebaliknya', 'banyak', 'sebanyak', 'beberapa', 'seberapa', 'begini', 'beginian', 'beginikah', 'beginilah', 'sebegini', 'begitu', 'begitukah', 'begitulah', 'begitupun', 'sebegitu', 'belum', 'belumlah', 'sebelum', 'sebelumnya', 'sebenarnya', 'berapa', 'berapakah', 'berapalah', 'berapapun', 'betulkah', 'sebetulnya', 'biasa', 'biasanya', 'bila', 'bilakah', 'bisa', 'bisakah', 'sebisanya', 'boleh', 'bolehkah', 'bolehlah', 'buat', 'bukan', 'bukankah', 'bukanlah', 'bukannya', 'cuma', 'percuma', 'dahulu', 'dalam', 'dan', 'dapat', 'dari', 'daripada', 'dekat', 'demi', 'demikian', 'demikianlah', 'sedemikian', 'dengan', 'depan', 'di', 'dia', 'dialah', 'dini', 'diri', 'dirinya', 'terdiri', 'dong', 'dulu', 'enggak', 'enggaknya', 'entah', 'entahlah', 'terhadap', 'terhadapnya', 'hal', 'hampir', 'hanya', 'hanyalah', 'harus', 'haruslah', 'harusnya', 'seharusnya', 'hendak', 'hendaklah', 'hendaknya', 'hingga', 'sehingga', 'ia', 'ialah', 'ibarat', 'ingin', 'inginkah', 'inginkan', 'ini', 'inikah', 'inilah', 'itu', 'itukah', 'itulah', 'jangan', 'jangankan', 'janganlah', 'jika', 'jikalau', 'juga', 'justru', 'kala', 'kalau', 'kalaulah', 'kalaupun', 'kalian', 'kami', 'kamilah', 'kamu', 'kamulah', 'kan', 'kapan', 'kapankah', 'kapanpun', 'dikarenakan', 'karena', 'karenanya', 'ke', 'kecil', 'kemudian', 'kenapa', 'kepada', 'kepadanya', 'ketika', 'seketika', 'khususnya', 'kini', 'kinilah', 'kiranya', 'sekiranya', 'kita', 'kitalah', 'kok', 'lagi', 'lagian', 'selagi', 'lah', 'lain', 'lainnya', 'melainkan', 'selaku', 'lalu', 'melalui', 'terlalu', 'lama', 'lamanya', 'selama', 'selama', 'selamanya', 'lebih', 'terlebih', 'bermacam', 'macam', 'semacam', 'maka', 'makanya', 'makin', 'malah', 'malahan', 'mampu', 'mampukah', 'mana', 'manakala', 'manalagi', 'masih', 'masihkah', 'semasih', 'masing', 'mau', 'maupun', 'semaunya', 'memang', 'mereka', 'merekalah', 'meski', 'meskipun', 'semula', 'mungkin', 'mungkinkah', 'nah', 'namun', 'nanti', 'nantinya', 'nyaris', 'oleh', 'olehnya', 'seorang', 'seseorang', 'pada', 'padanya', 'padahal', 'paling', 'sepanjang', 'pantas', 'sepantasnya', 'sepantasnyalah', 'para', 'pasti', 'pastilah', 'per', 'pernah', 'pula', 'pun', 'merupakan', 'rupanya', 'serupa', 'saat', 'saatnya', 'sesaat', 'saja', 'sajalah', 'saling', 'bersama', 'sama', 'sesama', 'sambil', 'sampai', 'sana', 'sangat', 'sangatlah', 'saya', 'sayalah', 'se', 'sebab', 'sebabnya', 'sebuah', 'tersebut', 'tersebutlah', 'sedang', 'sedangkan', 'sedikit', 'sedikitnya', 'segala', 'segalanya', 'segera', 'sesegera', 'sejak', 'sejenak', 'sekali', 'sekalian', 'sekalipun', 'sesekali', 'sekaligus', 'sekarang', 'sekarang', 'sekitar', 'sekitarnya', 'sela', 'selain', 'selalu', 'seluruh', 'seluruhnya', 'semakin', 'sementara', 'sempat', 'semua', 'semuanya', 'sendiri', 'sendirinya', 'seolah', 'seperti', 'sepertinya', 'sering', 'seringnya', 'serta', 'siapa', 'siapakah', 'siapapun', 'disini', 'disinilah', 'sini', 'sinilah', 'sesuatu', 'sesuatunya', 'suatu', 'sesudah', 'sesudahnya', 'sudah', 'sudahkah', 'sudahlah', 'supaya', 'tadi', 'tadinya', 'tak', 'tanpa', 'setelah', 'telah', 'tentang', 'tentu', 'tentulah', 'tentunya', 'tertentu', 'seterusnya', 'tapi', 'tetapi', 'setiap', 'tiap', 'setidaknya', 'tidak', 'tidakkah', 'tidaklah', 'toh', 'waduh', 'wah', 'wahai', 'sewaktu', 'walau', 'walaupun', 'wong', 'yaitu', 'yakni', 'yang']\n",
            "{'sebetulnya', 'begitulah', 'hendak', 'cuma', 'semuanya', 'merekalah', 'terlalu', 'agak', 'sempat', 'bukan', 'semacam', 'sela', 'supaya', 'kapanpun', 'sendirinya', 'beginian', 'harusnya', 'ini', 'buat', 'masing', 'adanya', 'serta', 'apaan', 'sebelumnya', 'kami', 'bermacam', 'sekalipun', 'tanpa', 'sebabnya', 'saatnya', 'bagaimanapun', 'saya', 'wah', 'semula', 'sepertinya', 'kenapa', 'saja', 'segalanya', 'jangan', 'belumlah', 'sudahlah', 'tersebut', 'dialah', 'disinilah', 'sesekali', 'demi', 'kalian', 'toh', 'berapakah', 'kalaulah', 'apalagi', 'seringnya', 'ibarat', 'inginkan', 'yang', 'kamu', 'ialah', 'nantinya', 'hingga', 'setiap', 'kamilah', 'telah', 'apabila', 'kapan', 'inginkah', 'tidak', 'semua', 'sebegitu', 'diri', 'jangankan', 'sekarang', 'bahkan', 'percuma', 'jikalau', 'seorang', 'sendiri', 'bersama', 'berapapun', 'enggak', 'namun', 'karena', 'beginikah', 'entah', 'mungkin', 'andalah', 'itu', 'mampu', 'selagi', 'beginilah', 'bahwasanya', 'pasti', 'suatu', 'dirinya', 'seharusnya', 'anda', 'kalaupun', 'sesudah', 'sesama', 'sebagainya', 'sering', 'begini', 'tentu', 'kita', 'dapat', 'segala', 'dini', 'kepadanya', 'bukankah', 'saling', 'agar', 'sepantasnya', 'dahulu', 'macam', 'melalui', 'paling', 'pada', 'segera', 'tentunya', 'aku', 'nyaris', 'bilakah', 'berapalah', 'bisa', 'inikah', 'makanya', 'malah', 'adapun', 'walau', 'kecil', 'seperti', 'sesudahnya', 'bagai', 'biasanya', 'sudah', 'yaitu', 'sana', 'berapa', 'kok', 'lamanya', 'per', 'setelah', 'hampir', 'sudahkah', 'sama', 'sesuatu', 'sebagaimana', 'bagaimanakah', 'lagi', 'inilah', 'selaku', 'banyak', 'sepantasnyalah', 'masih', 'se', 'sampai', 'ingin', 'sebenarnya', 'tentang', 'tetapi', 'sayalah', 'sinilah', 'kinilah', 'haruslah', 'sajalah', 'sekalian', 'daripada', 'dong', 'ketika', 'sehingga', 'seluruhnya', 'sedang', 'padanya', 'bolehkah', 'sementara', 'lebih', 'seluruh', 'setidaknya', 'meskipun', 'sesegera', 'akhirnya', 'kitalah', 'waduh', 'betulkah', 'malahan', 'tadinya', 'sekali', 'bagaimana', 'dalam', 'pun', 'sangat', 'ia', 'begitupun', 'kemudian', 'sebaliknya', 'ataupun', 'sesaat', 'hendaknya', 'sekaligus', 'yakni', 'lalu', 'pantas', 'tersebutlah', 'selalu', 'hendaklah', 'sebagai', 'saat', 'meski', 'serupa', 'karenanya', 'sebanyak', 'lagian', 'amat', 'begitu', 'sejenak', 'mana', 'kepada', 'memang', 'akan', 'seterusnya', 'khususnya', 'jika', 'mungkinkah', 'juga', 'akankah', 'kala', 'selamanya', 'disini', 'lainnya', 'manakala', 'harus', 'antara', 'tapi', 'nah', 'bahwa', 'entahlah', 'tadi', 'terlebih', 'justru', 'adalah', 'beberapa', 'enggaknya', 'boleh', 'sewaktu', 'tidakkah', 'pastilah', 'kalau', 'siapapun', 'mau', 'mengapa', 'apatah', 'hanya', 'belum', 'tentulah', 'antaranya', 'terhadapnya', 'dekat', 'padahal', 'apa', 'merupakan', 'sebuah', 'lain', 'wong', 'apakah', 'manalagi', 'semasih', 'seseorang', 'kapankah', 'amatlah', 'makin', 'sepanjang', 'pernah', 'mampukah', 'akulah', 'sebisanya', 'semakin', 'sejak', 'ada', 'bukanlah', 'sesuatunya', 'maka', 'olehnya', 'seberapa', 'sedemikian', 'itulah', 'bisakah', 'bolehlah', 'agaknya', 'kamulah', 'janganlah', 'walaupun', 'atau', 'sangatlah', 'nanti', 'antar', 'rupanya', 'dulu', 'dengan', 'sebelum', 'wahai', 'kiranya', 'tertentu', 'sedikitnya', 'sedangkan', 'seolah', 'pula', 'hanyalah', 'bila', 'biasa', 'sekitarnya', 'terdiri', 'sebab', 'diantara', 'begitukah', 'demikianlah', 'sini', 'hal', 'kan', 'ke', 'selama', 'para', 'masihkah', 'dikarenakan', 'depan', 'dan', 'lama', 'siapakah', 'lah', 'maupun', 'tak', 'itukah', 'sambil', 'tidaklah', 'siapa', 'terhadap', 'ataukah', 'seketika', 'bagi', 'kini', 'mereka', 'dia', 'diantaranya', 'bagaikan', 'semaunya', 'sebegini', 'oleh', 'melainkan', 'tiap', 'di', 'demikian', 'sekiranya', 'sedikit', 'dari', 'bukannya', 'sekitar', 'selain'}\n"
          ]
        }
      ]
    },
    {
      "cell_type": "code",
      "source": [
        "def proses_teks(teks):\n",
        "    soup = BeautifulSoup(teks, 'lxml')\n",
        "    souped = soup.get_text()\n",
        "    try:\n",
        "        teks = souped.decode(\"utf-8-sig\").replace(u\"\\ufffd\", \"?\")\n",
        "    except:\n",
        "        teks = souped\n",
        "    teks_bersih= re.sub(\"[^a-zA-Z0-9]\", \" \",(re.sub(www_pat, '', re.sub(combined_pat, '', teks)).lower()))\n",
        "    teks_bersih= ' '.join([word for word in teks_bersih.split() if word not in stopword_user])\n",
        "    return (\" \".join([x for x in tok.tokenize(teks_bersih) if len(x) > 1])).strip()"
      ],
      "metadata": {
        "id": "WS_FbFxpMtiV"
      },
      "execution_count": 18,
      "outputs": []
    },
    {
      "cell_type": "code",
      "source": [
        "#Membuat kolom baru\n",
        "x=[]\n",
        "for teks in df.Review:\n",
        "  x.append(proses_teks(teks))"
      ],
      "metadata": {
        "colab": {
          "base_uri": "https://localhost:8080/"
        },
        "id": "bC_u2LGfcH6v",
        "outputId": "be6297da-6f6c-4312-cf0b-b844d6f212ed"
      },
      "execution_count": 19,
      "outputs": [
        {
          "output_type": "stream",
          "name": "stderr",
          "text": [
            "<ipython-input-18-31fe8bf66b22>:2: MarkupResemblesLocatorWarning: The input looks more like a filename than markup. You may want to open this file and pass the filehandle into Beautiful Soup.\n",
            "  soup = BeautifulSoup(teks, 'lxml')\n"
          ]
        }
      ]
    },
    {
      "cell_type": "code",
      "source": [
        "clean_text = pd.DataFrame({'clean_text':x})"
      ],
      "metadata": {
        "id": "qZcrC01DTHBZ"
      },
      "execution_count": 20,
      "outputs": []
    },
    {
      "cell_type": "code",
      "source": [
        "df = pd.concat([df,clean_text], axis = 1)\n",
        "df.head()"
      ],
      "metadata": {
        "id": "eohXnLPHdubl",
        "colab": {
          "base_uri": "https://localhost:8080/",
          "height": 337
        },
        "outputId": "04745634-8657-43fb-b74d-e9fb350b7f07"
      },
      "execution_count": 21,
      "outputs": [
        {
          "output_type": "execute_result",
          "data": {
            "text/plain": [
              "   No               Brand   Rating  \\\n",
              "0   1  Pizza Hut Delivery  negatif   \n",
              "1   2          Mcdonald's  negatif   \n",
              "2   3                 KFC  positif   \n",
              "3   4       Burger Bangor  negatif   \n",
              "4   5         Burger King  positif   \n",
              "\n",
              "                                              Review  \\\n",
              "0  rose pizza, rotinya masih mentah yang bagian d...   \n",
              "1  Saya pesan setau saya gambarnya pake nasi. Kal...   \n",
              "2  Ini mah nggak usah diragukan, udah langganan j...   \n",
              "3     Ukuran kecil untuk harga segitu. Tapi rasa ok.   \n",
              "4  enak bumbu madura nya, ayamnya pun juicy ga ke...   \n",
              "\n",
              "                                              Source  \\\n",
              "0  https://gofood.co.id/en/bandung/restaurant/piz...   \n",
              "1  https://gofood.co.id/id/bandung/restaurant/mcd...   \n",
              "2  https://gofood.co.id/en/bandung/restaurant/kfc...   \n",
              "3  https://gofood.co.id/en/bandung/restaurant/bur...   \n",
              "4  https://gofood.co.id/id/bandung/restaurant/bur...   \n",
              "\n",
              "                                          clean_text  \n",
              "0          rose pizza rotinya mentah bagian dalamnya  \n",
              "1  pesan setau gambarnya pake nasi kalo ga pake y...  \n",
              "2     mah nggak usah diragukan udah langganan wkwkwk  \n",
              "3                  ukuran untuk harga segitu rasa ok  \n",
              "4      enak bumbu madura nya ayamnya juicy ga kering  "
            ],
            "text/html": [
              "\n",
              "  <div id=\"df-3b739c02-9969-4243-95e8-40dd44b34c2e\">\n",
              "    <div class=\"colab-df-container\">\n",
              "      <div>\n",
              "<style scoped>\n",
              "    .dataframe tbody tr th:only-of-type {\n",
              "        vertical-align: middle;\n",
              "    }\n",
              "\n",
              "    .dataframe tbody tr th {\n",
              "        vertical-align: top;\n",
              "    }\n",
              "\n",
              "    .dataframe thead th {\n",
              "        text-align: right;\n",
              "    }\n",
              "</style>\n",
              "<table border=\"1\" class=\"dataframe\">\n",
              "  <thead>\n",
              "    <tr style=\"text-align: right;\">\n",
              "      <th></th>\n",
              "      <th>No</th>\n",
              "      <th>Brand</th>\n",
              "      <th>Rating</th>\n",
              "      <th>Review</th>\n",
              "      <th>Source</th>\n",
              "      <th>clean_text</th>\n",
              "    </tr>\n",
              "  </thead>\n",
              "  <tbody>\n",
              "    <tr>\n",
              "      <th>0</th>\n",
              "      <td>1</td>\n",
              "      <td>Pizza Hut Delivery</td>\n",
              "      <td>negatif</td>\n",
              "      <td>rose pizza, rotinya masih mentah yang bagian d...</td>\n",
              "      <td>https://gofood.co.id/en/bandung/restaurant/piz...</td>\n",
              "      <td>rose pizza rotinya mentah bagian dalamnya</td>\n",
              "    </tr>\n",
              "    <tr>\n",
              "      <th>1</th>\n",
              "      <td>2</td>\n",
              "      <td>Mcdonald's</td>\n",
              "      <td>negatif</td>\n",
              "      <td>Saya pesan setau saya gambarnya pake nasi. Kal...</td>\n",
              "      <td>https://gofood.co.id/id/bandung/restaurant/mcd...</td>\n",
              "      <td>pesan setau gambarnya pake nasi kalo ga pake y...</td>\n",
              "    </tr>\n",
              "    <tr>\n",
              "      <th>2</th>\n",
              "      <td>3</td>\n",
              "      <td>KFC</td>\n",
              "      <td>positif</td>\n",
              "      <td>Ini mah nggak usah diragukan, udah langganan j...</td>\n",
              "      <td>https://gofood.co.id/en/bandung/restaurant/kfc...</td>\n",
              "      <td>mah nggak usah diragukan udah langganan wkwkwk</td>\n",
              "    </tr>\n",
              "    <tr>\n",
              "      <th>3</th>\n",
              "      <td>4</td>\n",
              "      <td>Burger Bangor</td>\n",
              "      <td>negatif</td>\n",
              "      <td>Ukuran kecil untuk harga segitu. Tapi rasa ok.</td>\n",
              "      <td>https://gofood.co.id/en/bandung/restaurant/bur...</td>\n",
              "      <td>ukuran untuk harga segitu rasa ok</td>\n",
              "    </tr>\n",
              "    <tr>\n",
              "      <th>4</th>\n",
              "      <td>5</td>\n",
              "      <td>Burger King</td>\n",
              "      <td>positif</td>\n",
              "      <td>enak bumbu madura nya, ayamnya pun juicy ga ke...</td>\n",
              "      <td>https://gofood.co.id/id/bandung/restaurant/bur...</td>\n",
              "      <td>enak bumbu madura nya ayamnya juicy ga kering</td>\n",
              "    </tr>\n",
              "  </tbody>\n",
              "</table>\n",
              "</div>\n",
              "      <button class=\"colab-df-convert\" onclick=\"convertToInteractive('df-3b739c02-9969-4243-95e8-40dd44b34c2e')\"\n",
              "              title=\"Convert this dataframe to an interactive table.\"\n",
              "              style=\"display:none;\">\n",
              "        \n",
              "  <svg xmlns=\"http://www.w3.org/2000/svg\" height=\"24px\"viewBox=\"0 0 24 24\"\n",
              "       width=\"24px\">\n",
              "    <path d=\"M0 0h24v24H0V0z\" fill=\"none\"/>\n",
              "    <path d=\"M18.56 5.44l.94 2.06.94-2.06 2.06-.94-2.06-.94-.94-2.06-.94 2.06-2.06.94zm-11 1L8.5 8.5l.94-2.06 2.06-.94-2.06-.94L8.5 2.5l-.94 2.06-2.06.94zm10 10l.94 2.06.94-2.06 2.06-.94-2.06-.94-.94-2.06-.94 2.06-2.06.94z\"/><path d=\"M17.41 7.96l-1.37-1.37c-.4-.4-.92-.59-1.43-.59-.52 0-1.04.2-1.43.59L10.3 9.45l-7.72 7.72c-.78.78-.78 2.05 0 2.83L4 21.41c.39.39.9.59 1.41.59.51 0 1.02-.2 1.41-.59l7.78-7.78 2.81-2.81c.8-.78.8-2.07 0-2.86zM5.41 20L4 18.59l7.72-7.72 1.47 1.35L5.41 20z\"/>\n",
              "  </svg>\n",
              "      </button>\n",
              "      \n",
              "  <style>\n",
              "    .colab-df-container {\n",
              "      display:flex;\n",
              "      flex-wrap:wrap;\n",
              "      gap: 12px;\n",
              "    }\n",
              "\n",
              "    .colab-df-convert {\n",
              "      background-color: #E8F0FE;\n",
              "      border: none;\n",
              "      border-radius: 50%;\n",
              "      cursor: pointer;\n",
              "      display: none;\n",
              "      fill: #1967D2;\n",
              "      height: 32px;\n",
              "      padding: 0 0 0 0;\n",
              "      width: 32px;\n",
              "    }\n",
              "\n",
              "    .colab-df-convert:hover {\n",
              "      background-color: #E2EBFA;\n",
              "      box-shadow: 0px 1px 2px rgba(60, 64, 67, 0.3), 0px 1px 3px 1px rgba(60, 64, 67, 0.15);\n",
              "      fill: #174EA6;\n",
              "    }\n",
              "\n",
              "    [theme=dark] .colab-df-convert {\n",
              "      background-color: #3B4455;\n",
              "      fill: #D2E3FC;\n",
              "    }\n",
              "\n",
              "    [theme=dark] .colab-df-convert:hover {\n",
              "      background-color: #434B5C;\n",
              "      box-shadow: 0px 1px 3px 1px rgba(0, 0, 0, 0.15);\n",
              "      filter: drop-shadow(0px 1px 2px rgba(0, 0, 0, 0.3));\n",
              "      fill: #FFFFFF;\n",
              "    }\n",
              "  </style>\n",
              "\n",
              "      <script>\n",
              "        const buttonEl =\n",
              "          document.querySelector('#df-3b739c02-9969-4243-95e8-40dd44b34c2e button.colab-df-convert');\n",
              "        buttonEl.style.display =\n",
              "          google.colab.kernel.accessAllowed ? 'block' : 'none';\n",
              "\n",
              "        async function convertToInteractive(key) {\n",
              "          const element = document.querySelector('#df-3b739c02-9969-4243-95e8-40dd44b34c2e');\n",
              "          const dataTable =\n",
              "            await google.colab.kernel.invokeFunction('convertToInteractive',\n",
              "                                                     [key], {});\n",
              "          if (!dataTable) return;\n",
              "\n",
              "          const docLinkHtml = 'Like what you see? Visit the ' +\n",
              "            '<a target=\"_blank\" href=https://colab.research.google.com/notebooks/data_table.ipynb>data table notebook</a>'\n",
              "            + ' to learn more about interactive tables.';\n",
              "          element.innerHTML = '';\n",
              "          dataTable['output_type'] = 'display_data';\n",
              "          await google.colab.output.renderOutput(dataTable, element);\n",
              "          const docLink = document.createElement('div');\n",
              "          docLink.innerHTML = docLinkHtml;\n",
              "          element.appendChild(docLink);\n",
              "        }\n",
              "      </script>\n",
              "    </div>\n",
              "  </div>\n",
              "  "
            ]
          },
          "metadata": {},
          "execution_count": 21
        }
      ]
    },
    {
      "cell_type": "markdown",
      "source": [
        "# Vectorizer"
      ],
      "metadata": {
        "id": "vqWcuVwtUVfE"
      }
    },
    {
      "cell_type": "code",
      "source": [
        "from sklearn.feature_extraction.text import CountVectorizer,TfidfVectorizer, HashingVectorizer"
      ],
      "metadata": {
        "id": "EvRJVuQpUXus"
      },
      "execution_count": 22,
      "outputs": []
    },
    {
      "cell_type": "code",
      "source": [
        "cvec=CountVectorizer()\n",
        "tvec=TfidfVectorizer()\n",
        "hvec=HashingVectorizer()"
      ],
      "metadata": {
        "id": "WrcxND66UcYO"
      },
      "execution_count": 23,
      "outputs": []
    },
    {
      "cell_type": "markdown",
      "source": [
        "# Create Train_test\n",
        "\n",
        "Setelah melakukan langkah di atas, maka selanjutnya adalah memisahkan data latih dan data uji, untuk memisahkananya, disini menggunakan pustaka sklearn ~ train test split"
      ],
      "metadata": {
        "id": "gUJ9XlByMAIs"
      }
    },
    {
      "cell_type": "code",
      "source": [
        "from sklearn.model_selection import train_test_split"
      ],
      "metadata": {
        "id": "A6Jo5CNgLh5S"
      },
      "execution_count": 24,
      "outputs": []
    },
    {
      "cell_type": "code",
      "source": [
        "X = df.clean_text\n",
        "y = df.Rating"
      ],
      "metadata": {
        "id": "fmJm4LIqd8jc"
      },
      "execution_count": 25,
      "outputs": []
    },
    {
      "cell_type": "code",
      "source": [
        "X_train, x_test, y_train, y_test = train_test_split(X, y, test_size=0.2, random_state=225)"
      ],
      "metadata": {
        "id": "XszAhE9gIDcV"
      },
      "execution_count": 26,
      "outputs": []
    },
    {
      "cell_type": "code",
      "source": [
        "print('Banyaknya data X_train :', len(X_train))\n",
        "print('Banyaknya data x_test :', len(x_test))\n",
        "print('Banyaknya data y_train :', len(y_train))\n",
        "print('Banyaknya data y_test :', len(y_test))"
      ],
      "metadata": {
        "id": "PP9Wt4GQeBfL",
        "colab": {
          "base_uri": "https://localhost:8080/"
        },
        "outputId": "9bff5318-c364-4309-8889-2ba13569d15b"
      },
      "execution_count": 27,
      "outputs": [
        {
          "output_type": "stream",
          "name": "stdout",
          "text": [
            "Banyaknya data X_train : 200\n",
            "Banyaknya data x_test : 50\n",
            "Banyaknya data y_train : 200\n",
            "Banyaknya data y_test : 50\n"
          ]
        }
      ]
    },
    {
      "cell_type": "code",
      "source": [
        "from sklearn.feature_extraction.text import CountVectorizer\n",
        "vectorizer = CountVectorizer(token_pattern = r'\\b\\w+\\b')\n",
        "X_train = vectorizer.fit_transform(X_train)\n",
        "x_test = vectorizer.transform(x_test)"
      ],
      "metadata": {
        "id": "1dOIC_ifeVjD"
      },
      "execution_count": 28,
      "outputs": []
    },
    {
      "cell_type": "code",
      "source": [
        "print(x_test)"
      ],
      "metadata": {
        "id": "cAOsqBXteYDf",
        "colab": {
          "base_uri": "https://localhost:8080/"
        },
        "outputId": "bc155c29-dfed-4518-8504-05edc5c6180f"
      },
      "execution_count": 29,
      "outputs": [
        {
          "output_type": "stream",
          "name": "stdout",
          "text": [
            "  (0, 101)\t1\n",
            "  (0, 114)\t2\n",
            "  (0, 123)\t1\n",
            "  (0, 299)\t1\n",
            "  (0, 349)\t1\n",
            "  (0, 356)\t1\n",
            "  (0, 464)\t1\n",
            "  (0, 478)\t1\n",
            "  (0, 522)\t3\n",
            "  (0, 824)\t1\n",
            "  (0, 904)\t1\n",
            "  (0, 987)\t1\n",
            "  (0, 1005)\t1\n",
            "  (0, 1065)\t1\n",
            "  (0, 1089)\t1\n",
            "  (0, 1105)\t1\n",
            "  (0, 1108)\t2\n",
            "  (0, 1112)\t1\n",
            "  (0, 1120)\t1\n",
            "  (0, 1148)\t1\n",
            "  (0, 1151)\t1\n",
            "  (0, 1182)\t1\n",
            "  (0, 1197)\t3\n",
            "  (0, 1199)\t1\n",
            "  (0, 1365)\t1\n",
            "  :\t:\n",
            "  (45, 1384)\t1\n",
            "  (45, 1416)\t1\n",
            "  (45, 1571)\t1\n",
            "  (45, 1591)\t1\n",
            "  (45, 1623)\t2\n",
            "  (45, 1659)\t1\n",
            "  (45, 1696)\t1\n",
            "  (45, 1704)\t1\n",
            "  (46, 478)\t1\n",
            "  (46, 1153)\t1\n",
            "  (46, 1460)\t1\n",
            "  (46, 1621)\t1\n",
            "  (47, 478)\t1\n",
            "  (47, 691)\t1\n",
            "  (47, 767)\t1\n",
            "  (48, 134)\t1\n",
            "  (48, 158)\t1\n",
            "  (48, 229)\t1\n",
            "  (48, 306)\t1\n",
            "  (48, 346)\t1\n",
            "  (48, 735)\t1\n",
            "  (48, 1241)\t1\n",
            "  (48, 1339)\t1\n",
            "  (49, 197)\t1\n",
            "  (49, 1308)\t1\n"
          ]
        }
      ]
    },
    {
      "cell_type": "markdown",
      "source": [
        "# Model Definition"
      ],
      "metadata": {
        "id": "0KJAYNYCUnQL"
      }
    },
    {
      "cell_type": "code",
      "source": [
        "from sklearn.naive_bayes import BernoulliNB"
      ],
      "metadata": {
        "id": "zL3xMRIIUm3e"
      },
      "execution_count": 30,
      "outputs": []
    },
    {
      "cell_type": "code",
      "source": [
        "Model_NB = BernoulliNB()"
      ],
      "metadata": {
        "id": "tXtC0mrzVCCs"
      },
      "execution_count": 31,
      "outputs": []
    },
    {
      "cell_type": "code",
      "source": [
        "Model_NB.fit(X_train,y_train)\n",
        "#predict oputput\n",
        "hasil = Model_NB.predict(x_test)"
      ],
      "metadata": {
        "id": "zqsx5qqgec42"
      },
      "execution_count": 32,
      "outputs": []
    },
    {
      "cell_type": "code",
      "source": [
        "print(hasil)\n",
        "print(y_test)\n"
      ],
      "metadata": {
        "id": "5ZBFLjOGeeUq",
        "colab": {
          "base_uri": "https://localhost:8080/"
        },
        "outputId": "6febbfeb-5caf-47ba-aaa8-8b51b8731bc8"
      },
      "execution_count": 33,
      "outputs": [
        {
          "output_type": "stream",
          "name": "stdout",
          "text": [
            "['positif' 'negatif' 'negatif' 'negatif' 'negatif' 'negatif' 'negatif'\n",
            " 'negatif' 'negatif' 'negatif' 'negatif' 'negatif' 'negatif' 'negatif'\n",
            " 'positif' 'negatif' 'negatif' 'negatif' 'negatif' 'negatif' 'negatif'\n",
            " 'negatif' 'negatif' 'negatif' 'negatif' 'negatif' 'negatif' 'negatif'\n",
            " 'negatif' 'negatif' 'negatif' 'negatif' 'negatif' 'negatif' 'negatif'\n",
            " 'negatif' 'negatif' 'negatif' 'negatif' 'negatif' 'negatif' 'negatif'\n",
            " 'negatif' 'negatif' 'negatif' 'negatif' 'negatif' 'negatif' 'negatif'\n",
            " 'negatif']\n",
            "47     positif\n",
            "245    positif\n",
            "71     negatif\n",
            "49     positif\n",
            "128    positif\n",
            "182    negatif\n",
            "237    negatif\n",
            "99     negatif\n",
            "229    negatif\n",
            "113    negatif\n",
            "226    positif\n",
            "4      positif\n",
            "58     negatif\n",
            "31     positif\n",
            "178    negatif\n",
            "211    negatif\n",
            "53     negatif\n",
            "225    negatif\n",
            "100    negatif\n",
            "207    positif\n",
            "50     negatif\n",
            "155    positif\n",
            "189    negatif\n",
            "247    negatif\n",
            "243    positif\n",
            "86     positif\n",
            "186    negatif\n",
            "234    positif\n",
            "217    negatif\n",
            "94     negatif\n",
            "11     negatif\n",
            "56     positif\n",
            "166    negatif\n",
            "180    positif\n",
            "107    positif\n",
            "34     negatif\n",
            "132    negatif\n",
            "249    positif\n",
            "171    negatif\n",
            "184    negatif\n",
            "136    negatif\n",
            "165    negatif\n",
            "123    positif\n",
            "122    negatif\n",
            "116    positif\n",
            "151    negatif\n",
            "218    negatif\n",
            "22     positif\n",
            "66     negatif\n",
            "140    negatif\n",
            "Name: Rating, dtype: object\n"
          ]
        }
      ]
    },
    {
      "cell_type": "markdown",
      "source": [
        "# Cek Akurasi"
      ],
      "metadata": {
        "id": "Q9xbnLtEZbbV"
      }
    },
    {
      "cell_type": "code",
      "source": [
        "from sklearn.metrics import accuracy_score,confusion_matrix\n",
        "from sklearn.metrics import classification_report"
      ],
      "metadata": {
        "id": "Z7G4f2YiZXTM"
      },
      "execution_count": 34,
      "outputs": []
    },
    {
      "cell_type": "code",
      "source": [
        "#Confusion Matrix\n",
        "confusion_matrix(hasil, y_test)"
      ],
      "metadata": {
        "id": "0WFESvJ1ekQ8",
        "colab": {
          "base_uri": "https://localhost:8080/"
        },
        "outputId": "88554677-2178-47e3-c0dc-722061999972"
      },
      "execution_count": 35,
      "outputs": [
        {
          "output_type": "execute_result",
          "data": {
            "text/plain": [
              "array([[30, 18],\n",
              "       [ 1,  1]])"
            ]
          },
          "metadata": {},
          "execution_count": 35
        }
      ]
    },
    {
      "cell_type": "code",
      "source": [
        "accuracy_score(hasil, y_test)"
      ],
      "metadata": {
        "id": "NJyr267XelmR",
        "colab": {
          "base_uri": "https://localhost:8080/"
        },
        "outputId": "ddcc4331-bc21-42a1-e5f2-5651cfe6ca57"
      },
      "execution_count": 36,
      "outputs": [
        {
          "output_type": "execute_result",
          "data": {
            "text/plain": [
              "0.62"
            ]
          },
          "metadata": {},
          "execution_count": 36
        }
      ]
    },
    {
      "cell_type": "code",
      "source": [
        "print(classification_report(hasil,y_test))"
      ],
      "metadata": {
        "id": "keZRrS_4enB4",
        "colab": {
          "base_uri": "https://localhost:8080/"
        },
        "outputId": "827942c0-64fa-4980-8caf-096c546831d9"
      },
      "execution_count": 37,
      "outputs": [
        {
          "output_type": "stream",
          "name": "stdout",
          "text": [
            "              precision    recall  f1-score   support\n",
            "\n",
            "     negatif       0.97      0.62      0.76        48\n",
            "     positif       0.05      0.50      0.10         2\n",
            "\n",
            "    accuracy                           0.62        50\n",
            "   macro avg       0.51      0.56      0.43        50\n",
            "weighted avg       0.93      0.62      0.73        50\n",
            "\n"
          ]
        }
      ]
    }
  ]
}